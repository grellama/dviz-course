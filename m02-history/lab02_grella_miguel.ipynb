{
 "cells": [
  {
   "cell_type": "code",
   "execution_count": 1,
   "metadata": {},
   "outputs": [
    {
     "data": {
      "text/html": [
       "\n",
       "<!DOCTYPE html>\n",
       "<html>\n",
       "    <head>\n",
       "        <style>\n",
       "            .para_txt {\n",
       "\n",
       "                font: 40px times-new-roman;\n",
       "                color: blue;\n",
       "                padding: 10px;\n",
       "            }\n",
       "        </style>\n",
       "        \n",
       "        <style>\n",
       "            .para_img {\n",
       "                border: 5px solid blue;\n",
       "            }\n",
       "        </style>\n",
       "    </head>\n",
       "\n",
       "    <body>\n",
       "        <p class='para_txt'>The following image displays the number of cholera deaths along\n",
       "        with Voronoi grids surrounding the locations of the pumps </p>\n",
       "        \n",
       "\n",
       "        <p class='para_img '><img src=\"voronoi.png\" alt=\"voronoi\" width=\"500\" height=\"200\"></p>\n",
       "        \n",
       "\n",
       "        <h3>John Snow's Map of the historic cholera outbreak </h2>\n",
       "        \n",
       "\n",
       "    </body>\n",
       "</html>\n"
      ],
      "text/plain": [
       "<IPython.core.display.HTML object>"
      ]
     },
     "metadata": {},
     "output_type": "display_data"
    }
   ],
   "source": [
    "%%html\n",
    "\n",
    "<!DOCTYPE html>\n",
    "<html>\n",
    "    <head>\n",
    "        <style>\n",
    "            .para_txt {\n",
    "\n",
    "                font: 40px times-new-roman;\n",
    "                color: blue;\n",
    "                padding: 10px;\n",
    "            }\n",
    "        </style>\n",
    "        \n",
    "        <style>\n",
    "            .para_img {\n",
    "                border: 5px solid blue;\n",
    "            }\n",
    "        </style>\n",
    "    </head>\n",
    "\n",
    "    <body>\n",
    "        <p class='para_txt'>The following image displays the number of cholera deaths along\n",
    "        with Voronoi grids surrounding the locations of the pumps </p>\n",
    "        \n",
    "\n",
    "        <p class='para_img '><img src=\"voronoi.png\" alt=\"voronoi\" width=\"500\" height=\"200\"></p>\n",
    "        \n",
    "\n",
    "        <h3>John Snow's Map of the historic cholera outbreak </h2>\n",
    "        \n",
    "\n",
    "    </body>\n",
    "</html>"
   ]
  },
  {
   "cell_type": "code",
   "execution_count": null,
   "metadata": {},
   "outputs": [],
   "source": []
  }
 ],
 "metadata": {
  "anaconda-cloud": {},
  "colab": {
   "collapsed_sections": [
    "C5xMCDKLV_4E"
   ],
   "name": "lab02.ipynb",
   "provenance": []
  },
  "kernel_info": {
   "name": "dviz"
  },
  "kernelspec": {
   "display_name": "Python 3 (ipykernel)",
   "language": "python",
   "name": "python3"
  },
  "language_info": {
   "codemirror_mode": {
    "name": "ipython",
    "version": 3
   },
   "file_extension": ".py",
   "mimetype": "text/x-python",
   "name": "python",
   "nbconvert_exporter": "python",
   "pygments_lexer": "ipython3",
   "version": "3.9.12"
  },
  "nteract": {
   "version": "0.28.0"
  }
 },
 "nbformat": 4,
 "nbformat_minor": 4
}
